{
 "cells": [
  {
   "cell_type": "markdown",
   "source": [
    "# Time Series Forecast\n",
    "\n",
    "For this project we will use a dataset from [IPMA](https://www.ipma.pt/en/oclima/series.longas/list.jsp)\n",
    "* Region: Lisboa (Temperatura and Preciptation)\n",
    "\n",
    "## Part 1\n",
    "* Temperature Forecast\n",
    "\n",
    "## Part 2\n",
    "* Predict whether it's going to rain or not"
   ],
   "metadata": {
    "collapsed": false
   }
  },
  {
   "cell_type": "code",
   "execution_count": null,
   "metadata": {
    "collapsed": true
   },
   "outputs": [],
   "source": []
  }
 ],
 "metadata": {
  "kernelspec": {
   "display_name": "Python 3",
   "language": "python",
   "name": "python3"
  },
  "language_info": {
   "codemirror_mode": {
    "name": "ipython",
    "version": 2
   },
   "file_extension": ".py",
   "mimetype": "text/x-python",
   "name": "python",
   "nbconvert_exporter": "python",
   "pygments_lexer": "ipython2",
   "version": "2.7.6"
  }
 },
 "nbformat": 4,
 "nbformat_minor": 0
}
