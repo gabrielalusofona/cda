{
 "cells": [
  {
   "cell_type": "markdown",
   "source": [
    "# Advanced Data Science\n",
    "\n",
    "## Time Series\n",
    "\n",
    "### Table of contents\n",
    "0. [Submission instructions](#si)\n",
    "1. [Understanding the problem](#1)\n",
    "2. [Data splitting](#2)\n",
    "3. [EDA](#3)\n",
    "4. [Feature engineering](#4)\n",
    "5. [Preprocessing and transformations](#5)\n",
    "6. [Baseline model](#6)\n",
    "7. [Different models](#7)\n",
    "8. [Interpretation and feature importances](#8)\n",
    "9. [Results on the test set](#9)\n",
    "10. [Summary of the results](#10)\n",
    "\n",
    "For this project we will use a dataset from [IPMA](https://www.ipma.pt/en/oclima/series.longas/list.jsp)\n",
    "* Region: Lisboa (Temperatura and Preciptation)\n",
    "\n",
    "\n",
    "## Goals\n",
    "The goal of this project is to develop a complete project using Time Series Data. For this, you are expected to implement two final models:\n",
    "1. Temperature Forecast\n",
    "2. Predict whether it's going to rain or not\n",
    "\n",
    "You can perform the forecast on the preciptation as well. You should present your predictions for 10 days, a month and a year."
   ],
   "metadata": {
    "collapsed": false
   }
  },
  {
   "cell_type": "markdown",
   "source": [
    "### Submission instructions <a name=\"si\"></a>\n",
    "\n",
    "\n",
    "- **You may work on this assignment in a group (group size <= 3) and submit your assignment as a group.**\n",
    "- Below are some instructions on working as a group.\n",
    "    - The maximum group size is 3.\n",
    "    - You can choose your own group members.\n",
    "    - Use group work as an opportunity to collaborate and learn new things from each other.\n",
    "    - Be respectful to each other and make sure you understand all the concepts in the assignment well.\n",
    "    - It's your responsibility to make sure that the assignment is submitted by one of the group members before the deadline.\n",
    "- Submit your work using [github assignement](https://classroom.github.com/a/zBt-9qVV)\n",
    "- Make sure that your plots/output are rendered properly in github."
   ],
   "metadata": {
    "collapsed": false
   }
  },
  {
   "cell_type": "markdown",
   "source": [
    "## Imports\n",
    "\n",
    "Add your imports here. Make sure to have an environment with the needed libraries."
   ],
   "metadata": {
    "collapsed": false
   }
  },
  {
   "cell_type": "code",
   "execution_count": null,
   "metadata": {
    "collapsed": true
   },
   "outputs": [],
   "source": [
    "# import ..."
   ]
  },
  {
   "cell_type": "markdown",
   "source": [
    "## Introduction <a name=\"in\"></a>\n",
    "\n",
    "In this homework you will be working on an open-ended mini-project, where you will put all the different things you have learned about time series so far together to solve an interesting problem.\n",
    "\n",
    "A few notes and tips when you work on this mini-project:\n",
    "\n",
    "#### Tips\n",
    "1. This mini-project is open-ended, and while working on it, there might be some situations where you'll have to use your own judgment and make your own decisions (as you would be doing when you work as a data scientist). Make sure you explain your decisions whenever necessary.\n",
    "2. **Do not include everything you ever tried in your submission** -- it's fine just to have your final code. That said, your code should be reproducible and well-documented. For example, if you chose your hyperparameters based on some hyperparameter optimization experiment, you should leave in the code for that experiment so that someone else could re-run it and obtain the same hyperparameters, rather than mysteriously just setting the hyperparameters to some (carefully chosen) values in your code.\n",
    "3. If you realize that you are repeating a lot of code try to organize it in functions. Clear presentation of your code, experiments, and results is the key to be successful in this lab. You may use code from lecture notes or previous lab solutions with appropriate attributions.\n",
    "\n",
    "\n",
    "#### A final note\n",
    "It'll be up to you to decide when you're \"done\" -- in fact, this is one of the hardest parts of real projects. But please don't spend WAY too much time on this... perhaps \"a few hours\" (15-20 hours???) is a good guideline for this project ."
   ],
   "metadata": {
    "collapsed": false
   }
  },
  {
   "cell_type": "markdown",
   "source": [
    "## 1. Pick your problem and explain the prediction problem <a name=\"1\"></a>\n",
    "<hr>\n",
    "rubric={points:10}\n",
    "\n",
    "You can choose a problem and use your own dataset to develop this project. If that is the case, share with the professor the problem and dataset.\n",
    "\n",
    "Or, you can work with the proposed problem: A weather dataset from IPMA.\n",
    "You can download the dataset [IPMA Long Series](https://www.ipma.pt/en/oclima/series.longas/list.jsp). Choose the Lisbon option. In this data set, there are 3 files (`Temperature`, `Preciptation`, `Pressure` and `Variables List`), and the goal is to forecast the temperature for the next 10 days, one month and one year, and predicting whether it is going to rain or not. `Temperature` is a dataset with almost 60000 examples and 5 columns. `Preciptation` is a dataset with around 56000 examples and 4 columns. It shows the daily preciptation in `mm`. `Pressure` has around 52000 and 8 columns. You can use the information of all the datasets together.\n",
    "Beware of the notes in each file, where IPMA informs different transformations they have performed in the data.\n",
    "\n",
    "**Your tasks:**\n",
    "\n",
    "1. Spend some time understanding the problem and what each feature means. You can find this information in the documentation on [IPMA Long Series](https://www.ipma.pt/en/oclima/series.longas/list.jsp).\n",
    "2. Write a few sentences on your initial thoughts on the problem and the dataset.\n",
    "3. Download the dataset and read it as a pandas dataframe.\n",
    "4. Work the data to have an working dataset with all the columns that you think that might be important."
   ],
   "metadata": {
    "collapsed": false
   }
  },
  {
   "cell_type": "code",
   "execution_count": null,
   "outputs": [],
   "source": [],
   "metadata": {
    "collapsed": false
   }
  },
  {
   "cell_type": "markdown",
   "source": [
    "## 2. Data splitting <a name=\"2\"></a>\n",
    "<hr>\n",
    "rubric={points:10}\n",
    "\n",
    "**Your tasks:**\n",
    "\n",
    "1. Split the data into train and test considering the forecast window (10 days, one month, one year).\n",
    "\n",
    "> If your computer cannot handle the dataset, consider using a smaller amount of historical data"
   ],
   "metadata": {
    "collapsed": false
   }
  },
  {
   "cell_type": "code",
   "execution_count": null,
   "outputs": [],
   "source": [],
   "metadata": {
    "collapsed": false
   }
  },
  {
   "cell_type": "markdown",
   "source": [
    "## 3. EDA <a name=\"3\"></a>\n",
    "<hr>\n",
    "rubric={points:15}\n",
    "\n",
    "**Your tasks:**\n",
    "\n",
    "1. Perform exploratory data analysis on the train set.\n",
    "2. Include at least two summary statistics and two visualizations that you find useful, and accompany each one with a sentence explaining it.\n",
    "3. Summarize your initial observations about the data.\n",
    "4. Pick appropriate metric/metrics for assessment."
   ],
   "metadata": {
    "collapsed": false
   }
  },
  {
   "cell_type": "code",
   "execution_count": null,
   "outputs": [],
   "source": [],
   "metadata": {
    "collapsed": false
   }
  },
  {
   "cell_type": "markdown",
   "source": [
    "## 4. Feature engineering <a name=\"4\"></a>\n",
    "rubric={points:5}\n",
    "\n",
    "**Your tasks:**\n",
    "\n",
    "1. Carry out feature engineering. In other words, extract new features relevant for the problem and work with your new feature set in the following exercises. You may have to go back and forth between feature engineering and preprocessing."
   ],
   "metadata": {
    "collapsed": false
   }
  },
  {
   "cell_type": "code",
   "execution_count": null,
   "outputs": [],
   "source": [],
   "metadata": {
    "collapsed": false
   }
  },
  {
   "cell_type": "markdown",
   "source": [
    "## 5. Preprocessing and transformations <a name=\"5\"></a>\n",
    "<hr>\n",
    "rubric={points:5}\n",
    "\n",
    "**Your tasks:**\n",
    "\n",
    "1. Identify different feature types and the transformations you would apply on each feature type.\n",
    "2. Define a column transformer, if necessary."
   ],
   "metadata": {
    "collapsed": false
   }
  },
  {
   "cell_type": "code",
   "execution_count": null,
   "outputs": [],
   "source": [],
   "metadata": {
    "collapsed": false
   }
  },
  {
   "cell_type": "markdown",
   "source": [
    "## 6. Baseline model <a name=\"6\"></a>\n",
    "<hr>\n",
    "rubric={points:5}\n",
    "\n",
    "We have seen a lot of different types of forecast models. You should pick a simple one to be the baseline.\n",
    "**Your tasks:**\n",
    "1. Try a simple forecast model to predict the temperature and report results.\n",
    "2. Try `scikit-learn`'s baseline model to predict the rainy days and report results."
   ],
   "metadata": {
    "collapsed": false
   }
  },
  {
   "cell_type": "code",
   "execution_count": null,
   "outputs": [],
   "source": [],
   "metadata": {
    "collapsed": false
   }
  },
  {
   "cell_type": "markdown",
   "source": [
    "## 7. Different models <a name=\"7\"></a>\n",
    "<hr>\n",
    "rubric={points:20}\n",
    "\n",
    "**Your tasks:**\n",
    "1. Try at least 3 other models aside from the baseline for the forecast and classification tasks.\n",
    "2. Summarize your results in terms of overfitting/underfitting and fit and score times."
   ],
   "metadata": {
    "collapsed": false
   }
  },
  {
   "cell_type": "code",
   "execution_count": null,
   "outputs": [],
   "source": [],
   "metadata": {
    "collapsed": false
   }
  },
  {
   "cell_type": "markdown",
   "source": [
    "## 8. Interpretation and feature importances <a name=\"8\"></a>\n",
    "<hr>\n",
    "rubric={points:10}\n",
    "\n",
    "**Your tasks:**\n",
    "\n",
    "1. Use the methods we saw in class (or any other methods of your choice) to examine the most important features of one of the non-linear models.\n",
    "2. Summarize your observations."
   ],
   "metadata": {
    "collapsed": false
   }
  },
  {
   "cell_type": "code",
   "execution_count": null,
   "outputs": [],
   "source": [],
   "metadata": {
    "collapsed": false
   }
  },
  {
   "cell_type": "markdown",
   "source": [
    "## 9. Results on the test set <a name=\"9\"></a>\n",
    "<hr>\n",
    "\n",
    "rubric={points:10}\n",
    "\n",
    "**Your tasks:**\n",
    "\n",
    "1. Try your best performing model on the test data and report test scores.\n",
    "2. Do the test scores agree with the validation scores from before? To what extent do you trust your results? Do you think you've had issues with optimization bias?\n",
    "3. Take one or two test predictions and explain these individual predictions."
   ],
   "metadata": {
    "collapsed": false
   }
  },
  {
   "cell_type": "code",
   "execution_count": null,
   "outputs": [],
   "source": [],
   "metadata": {
    "collapsed": false
   }
  },
  {
   "cell_type": "markdown",
   "source": [
    "## 10. Summary of results <a name=\"10\"></a>\n",
    "<hr>\n",
    "rubric={points:10}\n",
    "\n",
    "Imagine that you want to present the summary of these results to your boss and co-workers.\n",
    "\n",
    "**Your tasks:**\n",
    "\n",
    "1. Create a table summarizing important results.\n",
    "2. Write concluding remarks.\n",
    "3. Discuss other ideas that you did not try but could potentially improve the performance/interpretability .\n",
    "3. Report your final test score along with the metric you used at the top of this notebook in the [Submission instructions section](#si)."
   ],
   "metadata": {
    "collapsed": false
   }
  },
  {
   "cell_type": "code",
   "execution_count": null,
   "outputs": [],
   "source": [],
   "metadata": {
    "collapsed": false
   }
  },
  {
   "cell_type": "markdown",
   "source": [
    "**PLEASE READ BEFORE YOU SUBMIT:**\n",
    "\n",
    "When you are ready to submit your assignment do the following:\n",
    "\n",
    "1. Run all cells in your notebook to make sure there are no errors by doing `Kernel -> Restart Kernel and Clear All Outputs` and then `Run -> Run All Cells`.\n",
    "2. Notebooks with cell execution numbers out of order or not starting from \"1\" will have marks deducted. Notebooks without the output displayed may not be graded at all.\n",
    "3. Export the notebook as a python script (.py) for feedback purposes on github.\n",
    "4. Upload the assignment using github, opening a pull request.\n",
    "5. Make sure that the plots and output are rendered properly in your submitted file. If the .ipynb file is too big and doesn't render on github, also upload a pdf or html in addition to the .ipynb."
   ],
   "metadata": {
    "collapsed": false
   }
  },
  {
   "cell_type": "markdown",
   "source": [],
   "metadata": {
    "collapsed": false
   }
  },
  {
   "cell_type": "markdown",
   "source": [],
   "metadata": {
    "collapsed": false
   }
  }
 ],
 "metadata": {
  "kernelspec": {
   "display_name": "Python 3",
   "language": "python",
   "name": "python3"
  },
  "language_info": {
   "codemirror_mode": {
    "name": "ipython",
    "version": 2
   },
   "file_extension": ".py",
   "mimetype": "text/x-python",
   "name": "python",
   "nbconvert_exporter": "python",
   "pygments_lexer": "ipython2",
   "version": "2.7.6"
  }
 },
 "nbformat": 4,
 "nbformat_minor": 0
}
