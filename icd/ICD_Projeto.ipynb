{
 "cells": [
  {
   "cell_type": "markdown",
   "source": [
    "# Introdução à Ciência de Dados\n",
    "\n",
    "## Regras\n",
    "1. Este projeto pode ser realizado em duplas.\n",
    "2. Vocês podem escolher um dataset da sua preferência, ou fazer o que se pede com o dataset fornecido.\n",
    "3. O tempo de desenvolvimento será de 2 semanas, e a forma de submissão será anunciada posteriormente (via Moodle ou github).\n",
    "4. Vocês devem submeter um relatório, em Jupyter Notebook, explicando os passos de cada fase do trabalho.\n",
    "5. Também será necessário realizar uma apresentação, ou uma defesa do seu trabalho. Como temos pouco tempo, esta defesa poderá ser feita de maneira remota e assíncrona.\n",
    "\n",
    "## Dados próprios\n",
    "Caso escolham prosseguir com o trabalho com um dataset da sua preferência, o seu trabalho deverá:\n",
    "1. Deixar clara a motivação e as perguntas e ou problemas que podem ser resolvidos com o uso dos dados.\n",
    "2. Realizar uma Análise Exploratória dos Dados que seja capaz de trazer luz aos questionamentos do item 1.\n",
    "3. Realizar teste de hipótese para validar pelo menos uma das questões levantadas no item 1. Definir de maneira clara as hipóteses, a estatística e a metodologia dos testes.\n",
    "4. Desenvolver um modelo supervisionado, e analisar os resultados.\n",
    "\n",
    "## Dados fornecidos\n",
    "\n",
    "Dados de preço de casa, disponível na pasta `data/home_data.csv`\n",
    "\n",
    "## Tarefas\n",
    "\n",
    "1. Análise Exploratória dos Dados\n",
    "    1.1 Análise descritiva\n",
    "    1.2 Visualizações\n",
    "    1.3 Teste de Hipóteses: Há diferença de preço significativa entre casas térreas e casas com mais de um andar?\n",
    "2. Fazer uma regressão linear para prever o preço das casas. Analisar os resultados.\n",
    "\n",
    "\n"
   ],
   "metadata": {
    "collapsed": false
   }
  },
  {
   "cell_type": "code",
   "execution_count": null,
   "metadata": {
    "collapsed": true
   },
   "outputs": [],
   "source": []
  }
 ],
 "metadata": {
  "kernelspec": {
   "display_name": "Python 3",
   "language": "python",
   "name": "python3"
  },
  "language_info": {
   "codemirror_mode": {
    "name": "ipython",
    "version": 2
   },
   "file_extension": ".py",
   "mimetype": "text/x-python",
   "name": "python",
   "nbconvert_exporter": "python",
   "pygments_lexer": "ipython2",
   "version": "2.7.6"
  }
 },
 "nbformat": 4,
 "nbformat_minor": 0
}
