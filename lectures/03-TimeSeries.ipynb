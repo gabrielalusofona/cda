{
 "cells": [
  {
   "cell_type": "markdown",
   "source": [
    "# Time series\n",
    "\n",
    "## Motivation\n",
    "\n",
    "- **Time series** is a collection of data points indexed in time order.\n",
    "- Time series is everywhere:\n",
    "    - Physical sciences (e.g., weather forecasting)\n",
    "    - Economics, finance (e.g., stocks, market trends)\n",
    "    - Engineering (e.g., energy consumption)\n",
    "    - Social sciences\n",
    "    - Sports analytics"
   ],
   "metadata": {
    "collapsed": false
   }
  },
  {
   "cell_type": "markdown",
   "source": [
    "## Outline\n",
    "\n",
    "- What can we forecast?\n",
    "- Time series data and random futures\n",
    "- Some case studies\n",
    "- Exercise"
   ],
   "metadata": {
    "collapsed": false
   }
  },
  {
   "cell_type": "markdown",
   "source": [
    "### What can we forecast?\n",
    "<img src='img/AusBOM.png' height=\"600\" />"
   ],
   "metadata": {
    "collapsed": false
   }
  },
  {
   "cell_type": "markdown",
   "source": [
    "### What can we forecast?\n",
    "<img src='img/comet.jpg' height=\"600\" />"
   ],
   "metadata": {
    "collapsed": false
   }
  },
  {
   "cell_type": "markdown",
   "source": [
    "### What can we forecast?\n",
    "<img src='img/Forex2.png' height=\"600\" />"
   ],
   "metadata": {
    "collapsed": false
   }
  },
  {
   "cell_type": "markdown",
   "source": [
    "### What can we forecast?\n",
    "<img src='img/nasdaq-stock-market.jpg' height=\"600\" />"
   ],
   "metadata": {
    "collapsed": false
   }
  },
  {
   "cell_type": "markdown",
   "source": [
    "### What can we forecast?\n",
    "<img src='img/pills.jpg' height=\"600\" />"
   ],
   "metadata": {
    "collapsed": false
   }
  },
  {
   "cell_type": "markdown",
   "source": [
    "### What can we forecast?\n",
    "<img src='img/ts22015.jpg' height=\"600\" />"
   ],
   "metadata": {
    "collapsed": false
   }
  },
  {
   "cell_type": "markdown",
   "source": [
    "## Time series visualizations"
   ],
   "metadata": {
    "collapsed": false
   }
  },
  {
   "cell_type": "markdown",
   "source": [],
   "metadata": {
    "collapsed": false
   }
  }
 ],
 "metadata": {
  "kernelspec": {
   "display_name": "Python 3",
   "language": "python",
   "name": "python3"
  },
  "language_info": {
   "codemirror_mode": {
    "name": "ipython",
    "version": 2
   },
   "file_extension": ".py",
   "mimetype": "text/x-python",
   "name": "python",
   "nbconvert_exporter": "python",
   "pygments_lexer": "ipython2",
   "version": "2.7.6"
  }
 },
 "nbformat": 4,
 "nbformat_minor": 0
}
