{
 "cells": [
  {
   "cell_type": "markdown",
   "source": [
    "# Lecture 23-04-2024: Regression Evaluation Metrics\n"
   ],
   "metadata": {
    "collapsed": false
   }
  },
  {
   "cell_type": "markdown",
   "source": [
    "## Imports"
   ],
   "metadata": {
    "collapsed": false
   }
  },
  {
   "cell_type": "code",
   "execution_count": 2,
   "outputs": [],
   "source": [
    "import matplotlib.pyplot as plt\n",
    "import numpy as np\n",
    "import pandas as pd\n",
    "from sklearn.compose import (\n",
    "    ColumnTransformer,\n",
    "    TransformedTargetRegressor,\n",
    "    make_column_transformer,\n",
    ")\n",
    "from sklearn.dummy import DummyRegressor\n",
    "from sklearn.ensemble import RandomForestRegressor\n",
    "from sklearn.impute import SimpleImputer\n",
    "from sklearn.linear_model import LinearRegression, Ridge, RidgeCV\n",
    "from sklearn.metrics import make_scorer, mean_squared_error, r2_score\n",
    "from sklearn.model_selection import cross_val_score, cross_validate, train_test_split\n",
    "from sklearn.pipeline import Pipeline, make_pipeline\n",
    "from sklearn.preprocessing import OneHotEncoder, OrdinalEncoder, StandardScaler\n",
    "from sklearn.tree import DecisionTreeRegressor\n",
    "\n",
    "%matplotlib inline"
   ],
   "metadata": {
    "collapsed": false
   }
  },
  {
   "cell_type": "markdown",
   "source": [
    "## Announcements\n",
    "\n",
    "- ICD Exam\n",
    "- ICD Project\n",
    "- CDA Project 1"
   ],
   "metadata": {
    "collapsed": false
   }
  },
  {
   "cell_type": "markdown",
   "source": [
    "## Learning outcomes\n",
    "\n",
    "From this lecture, students are expected to be able to:\n",
    "\n",
    "- Use `Ridge` and `RidgeCV`.\n",
    "- Explain how `alpha` hyperparameter of `Ridge` relates to the fundamental tradeoff.\n",
    "- Examine coefficients of transformed features.\n",
    "- Appropriately select a scoring metric given a regression problem.\n",
    "- Interpret and communicate the meanings of different scoring metrics on regression problems.\n",
    "    - MSE, RMSE, $R^2$, MAPE\n",
    "- Apply log-transform on the target values in a regression problem with `TransformedTargetRegressor`."
   ],
   "metadata": {
    "collapsed": false
   }
  },
  {
   "cell_type": "markdown",
   "source": [
    "## From last Lecture\n"
   ],
   "metadata": {
    "collapsed": false
   }
  },
  {
   "cell_type": "code",
   "execution_count": 3,
   "outputs": [
    {
     "data": {
      "text/plain": "       MedInc  HouseAge  AveRooms  AveBedrms  Population  AveOccup  Latitude  \\\n0      3.1932      51.0  5.350993   1.238411       608.0  2.013245     36.93   \n1      3.4286      31.0  5.658009   1.060606       752.0  3.255411     32.84   \n2      3.1051      23.0  3.731289   1.031705      4757.0  2.472453     34.20   \n3      1.8939      28.0  5.711640   1.100529      1283.0  3.394180     37.26   \n4      4.8125      48.0  6.764310   1.127946       919.0  3.094276     33.99   \n...       ...       ...       ...        ...         ...       ...       ...   \n16507  6.3144      28.0  6.921191   1.036778      1469.0  2.572680     35.28   \n16508  2.0926      11.0  4.134940   0.973494       722.0  1.739759     38.61   \n16509  3.0917      48.0  4.939103   1.006410       819.0  2.625000     33.97   \n16510  0.8026      23.0  5.369231   1.150769      1054.0  3.243077     37.81   \n16511  1.8967      52.0  5.000000   1.049180       406.0  3.327869     36.74   \n\n       Longitude  \n0        -122.00  \n1        -116.95  \n2        -118.33  \n3        -120.49  \n4        -118.34  \n...          ...  \n16507    -120.62  \n16508    -121.34  \n16509    -118.31  \n16510    -122.29  \n16511    -119.82  \n\n[16512 rows x 8 columns]",
      "text/html": "<div>\n<style scoped>\n    .dataframe tbody tr th:only-of-type {\n        vertical-align: middle;\n    }\n\n    .dataframe tbody tr th {\n        vertical-align: top;\n    }\n\n    .dataframe thead th {\n        text-align: right;\n    }\n</style>\n<table border=\"1\" class=\"dataframe\">\n  <thead>\n    <tr style=\"text-align: right;\">\n      <th></th>\n      <th>MedInc</th>\n      <th>HouseAge</th>\n      <th>AveRooms</th>\n      <th>AveBedrms</th>\n      <th>Population</th>\n      <th>AveOccup</th>\n      <th>Latitude</th>\n      <th>Longitude</th>\n    </tr>\n  </thead>\n  <tbody>\n    <tr>\n      <th>0</th>\n      <td>3.1932</td>\n      <td>51.0</td>\n      <td>5.350993</td>\n      <td>1.238411</td>\n      <td>608.0</td>\n      <td>2.013245</td>\n      <td>36.93</td>\n      <td>-122.00</td>\n    </tr>\n    <tr>\n      <th>1</th>\n      <td>3.4286</td>\n      <td>31.0</td>\n      <td>5.658009</td>\n      <td>1.060606</td>\n      <td>752.0</td>\n      <td>3.255411</td>\n      <td>32.84</td>\n      <td>-116.95</td>\n    </tr>\n    <tr>\n      <th>2</th>\n      <td>3.1051</td>\n      <td>23.0</td>\n      <td>3.731289</td>\n      <td>1.031705</td>\n      <td>4757.0</td>\n      <td>2.472453</td>\n      <td>34.20</td>\n      <td>-118.33</td>\n    </tr>\n    <tr>\n      <th>3</th>\n      <td>1.8939</td>\n      <td>28.0</td>\n      <td>5.711640</td>\n      <td>1.100529</td>\n      <td>1283.0</td>\n      <td>3.394180</td>\n      <td>37.26</td>\n      <td>-120.49</td>\n    </tr>\n    <tr>\n      <th>4</th>\n      <td>4.8125</td>\n      <td>48.0</td>\n      <td>6.764310</td>\n      <td>1.127946</td>\n      <td>919.0</td>\n      <td>3.094276</td>\n      <td>33.99</td>\n      <td>-118.34</td>\n    </tr>\n    <tr>\n      <th>...</th>\n      <td>...</td>\n      <td>...</td>\n      <td>...</td>\n      <td>...</td>\n      <td>...</td>\n      <td>...</td>\n      <td>...</td>\n      <td>...</td>\n    </tr>\n    <tr>\n      <th>16507</th>\n      <td>6.3144</td>\n      <td>28.0</td>\n      <td>6.921191</td>\n      <td>1.036778</td>\n      <td>1469.0</td>\n      <td>2.572680</td>\n      <td>35.28</td>\n      <td>-120.62</td>\n    </tr>\n    <tr>\n      <th>16508</th>\n      <td>2.0926</td>\n      <td>11.0</td>\n      <td>4.134940</td>\n      <td>0.973494</td>\n      <td>722.0</td>\n      <td>1.739759</td>\n      <td>38.61</td>\n      <td>-121.34</td>\n    </tr>\n    <tr>\n      <th>16509</th>\n      <td>3.0917</td>\n      <td>48.0</td>\n      <td>4.939103</td>\n      <td>1.006410</td>\n      <td>819.0</td>\n      <td>2.625000</td>\n      <td>33.97</td>\n      <td>-118.31</td>\n    </tr>\n    <tr>\n      <th>16510</th>\n      <td>0.8026</td>\n      <td>23.0</td>\n      <td>5.369231</td>\n      <td>1.150769</td>\n      <td>1054.0</td>\n      <td>3.243077</td>\n      <td>37.81</td>\n      <td>-122.29</td>\n    </tr>\n    <tr>\n      <th>16511</th>\n      <td>1.8967</td>\n      <td>52.0</td>\n      <td>5.000000</td>\n      <td>1.049180</td>\n      <td>406.0</td>\n      <td>3.327869</td>\n      <td>36.74</td>\n      <td>-119.82</td>\n    </tr>\n  </tbody>\n</table>\n<p>16512 rows × 8 columns</p>\n</div>"
     },
     "execution_count": 3,
     "metadata": {},
     "output_type": "execute_result"
    }
   ],
   "source": [
    "from sklearn.datasets import fetch_california_housing\n",
    "\n",
    "\n",
    "california = fetch_california_housing()\n",
    "X_train, X_test, y_train, y_test = train_test_split(\n",
    "    california.data, california.target, test_size=0.2\n",
    ")\n",
    "pd.DataFrame(X_train, columns=california.feature_names)"
   ],
   "metadata": {
    "collapsed": false
   }
  },
  {
   "cell_type": "code",
   "execution_count": 4,
   "outputs": [
    {
     "data": {
      "text/plain": "MedInc        0\nHouseAge      0\nAveRooms      0\nAveBedrms     0\nPopulation    0\nAveOccup      0\nLatitude      0\nLongitude     0\ndtype: int64"
     },
     "execution_count": 4,
     "metadata": {},
     "output_type": "execute_result"
    }
   ],
   "source": [
    "X_train_df = pd.DataFrame(X_train, columns=california.feature_names)\n",
    "X_train_df.isna().sum()"
   ],
   "metadata": {
    "collapsed": false
   }
  },
  {
   "cell_type": "code",
   "execution_count": 5,
   "outputs": [
    {
     "data": {
      "text/plain": "             MedInc      HouseAge      AveRooms     AveBedrms    Population  \\\ncount  16512.000000  16512.000000  16512.000000  16512.000000  16512.000000   \nmean       3.870463     28.683382      5.423245      1.095924   1427.649891   \nstd        1.894130     12.612377      2.318812      0.453400   1163.218341   \nmin        0.499900      1.000000      0.846154      0.375000      3.000000   \n25%        2.566700     18.000000      4.439083      1.005861    788.000000   \n50%        3.531300     29.000000      5.232422      1.048780   1160.000000   \n75%        4.740250     37.000000      6.058512      1.099536   1722.000000   \nmax       15.000100     52.000000    132.533333     34.066667  35682.000000   \n\n           AveOccup      Latitude     Longitude  \ncount  16512.000000  16512.000000  16512.000000  \nmean       3.103501     35.624089   -119.563443  \nstd       11.593708      2.137362      2.002565  \nmin        0.750000     32.540000   -124.350000  \n25%        2.430375     33.930000   -121.790000  \n50%        2.818875     34.250000   -118.490000  \n75%        3.283356     37.720000   -118.000000  \nmax     1243.333333     41.950000   -114.310000  ",
      "text/html": "<div>\n<style scoped>\n    .dataframe tbody tr th:only-of-type {\n        vertical-align: middle;\n    }\n\n    .dataframe tbody tr th {\n        vertical-align: top;\n    }\n\n    .dataframe thead th {\n        text-align: right;\n    }\n</style>\n<table border=\"1\" class=\"dataframe\">\n  <thead>\n    <tr style=\"text-align: right;\">\n      <th></th>\n      <th>MedInc</th>\n      <th>HouseAge</th>\n      <th>AveRooms</th>\n      <th>AveBedrms</th>\n      <th>Population</th>\n      <th>AveOccup</th>\n      <th>Latitude</th>\n      <th>Longitude</th>\n    </tr>\n  </thead>\n  <tbody>\n    <tr>\n      <th>count</th>\n      <td>16512.000000</td>\n      <td>16512.000000</td>\n      <td>16512.000000</td>\n      <td>16512.000000</td>\n      <td>16512.000000</td>\n      <td>16512.000000</td>\n      <td>16512.000000</td>\n      <td>16512.000000</td>\n    </tr>\n    <tr>\n      <th>mean</th>\n      <td>3.870463</td>\n      <td>28.683382</td>\n      <td>5.423245</td>\n      <td>1.095924</td>\n      <td>1427.649891</td>\n      <td>3.103501</td>\n      <td>35.624089</td>\n      <td>-119.563443</td>\n    </tr>\n    <tr>\n      <th>std</th>\n      <td>1.894130</td>\n      <td>12.612377</td>\n      <td>2.318812</td>\n      <td>0.453400</td>\n      <td>1163.218341</td>\n      <td>11.593708</td>\n      <td>2.137362</td>\n      <td>2.002565</td>\n    </tr>\n    <tr>\n      <th>min</th>\n      <td>0.499900</td>\n      <td>1.000000</td>\n      <td>0.846154</td>\n      <td>0.375000</td>\n      <td>3.000000</td>\n      <td>0.750000</td>\n      <td>32.540000</td>\n      <td>-124.350000</td>\n    </tr>\n    <tr>\n      <th>25%</th>\n      <td>2.566700</td>\n      <td>18.000000</td>\n      <td>4.439083</td>\n      <td>1.005861</td>\n      <td>788.000000</td>\n      <td>2.430375</td>\n      <td>33.930000</td>\n      <td>-121.790000</td>\n    </tr>\n    <tr>\n      <th>50%</th>\n      <td>3.531300</td>\n      <td>29.000000</td>\n      <td>5.232422</td>\n      <td>1.048780</td>\n      <td>1160.000000</td>\n      <td>2.818875</td>\n      <td>34.250000</td>\n      <td>-118.490000</td>\n    </tr>\n    <tr>\n      <th>75%</th>\n      <td>4.740250</td>\n      <td>37.000000</td>\n      <td>6.058512</td>\n      <td>1.099536</td>\n      <td>1722.000000</td>\n      <td>3.283356</td>\n      <td>37.720000</td>\n      <td>-118.000000</td>\n    </tr>\n    <tr>\n      <th>max</th>\n      <td>15.000100</td>\n      <td>52.000000</td>\n      <td>132.533333</td>\n      <td>34.066667</td>\n      <td>35682.000000</td>\n      <td>1243.333333</td>\n      <td>41.950000</td>\n      <td>-114.310000</td>\n    </tr>\n  </tbody>\n</table>\n</div>"
     },
     "execution_count": 5,
     "metadata": {},
     "output_type": "execute_result"
    }
   ],
   "source": [
    "X_train_df.describe()"
   ],
   "metadata": {
    "collapsed": false
   }
  },
  {
   "cell_type": "markdown",
   "source": [
    "## Model building"
   ],
   "metadata": {
    "collapsed": false
   }
  },
  {
   "cell_type": "markdown",
   "source": [
    "### `DummyRegressor`"
   ],
   "metadata": {
    "collapsed": false
   }
  },
  {
   "cell_type": "code",
   "execution_count": 6,
   "outputs": [
    {
     "data": {
      "text/plain": "   fit_time  score_time  test_score  train_score\n0  0.000815    0.000542   -0.000040          0.0\n1  0.000659    0.000307   -0.000018          0.0\n2  0.000464    0.000265   -0.000022          0.0\n3  0.000458    0.000259   -0.002063          0.0\n4  0.000458    0.000256   -0.000165          0.0\n5  0.000452    0.000252   -0.001080          0.0\n6  0.000459    0.000249   -0.000224          0.0\n7  0.000464    0.000237   -0.000027          0.0\n8  0.000401    0.000222   -0.000331          0.0\n9  0.000403    0.000221   -0.000026          0.0",
      "text/html": "<div>\n<style scoped>\n    .dataframe tbody tr th:only-of-type {\n        vertical-align: middle;\n    }\n\n    .dataframe tbody tr th {\n        vertical-align: top;\n    }\n\n    .dataframe thead th {\n        text-align: right;\n    }\n</style>\n<table border=\"1\" class=\"dataframe\">\n  <thead>\n    <tr style=\"text-align: right;\">\n      <th></th>\n      <th>fit_time</th>\n      <th>score_time</th>\n      <th>test_score</th>\n      <th>train_score</th>\n    </tr>\n  </thead>\n  <tbody>\n    <tr>\n      <th>0</th>\n      <td>0.000815</td>\n      <td>0.000542</td>\n      <td>-0.000040</td>\n      <td>0.0</td>\n    </tr>\n    <tr>\n      <th>1</th>\n      <td>0.000659</td>\n      <td>0.000307</td>\n      <td>-0.000018</td>\n      <td>0.0</td>\n    </tr>\n    <tr>\n      <th>2</th>\n      <td>0.000464</td>\n      <td>0.000265</td>\n      <td>-0.000022</td>\n      <td>0.0</td>\n    </tr>\n    <tr>\n      <th>3</th>\n      <td>0.000458</td>\n      <td>0.000259</td>\n      <td>-0.002063</td>\n      <td>0.0</td>\n    </tr>\n    <tr>\n      <th>4</th>\n      <td>0.000458</td>\n      <td>0.000256</td>\n      <td>-0.000165</td>\n      <td>0.0</td>\n    </tr>\n    <tr>\n      <th>5</th>\n      <td>0.000452</td>\n      <td>0.000252</td>\n      <td>-0.001080</td>\n      <td>0.0</td>\n    </tr>\n    <tr>\n      <th>6</th>\n      <td>0.000459</td>\n      <td>0.000249</td>\n      <td>-0.000224</td>\n      <td>0.0</td>\n    </tr>\n    <tr>\n      <th>7</th>\n      <td>0.000464</td>\n      <td>0.000237</td>\n      <td>-0.000027</td>\n      <td>0.0</td>\n    </tr>\n    <tr>\n      <th>8</th>\n      <td>0.000401</td>\n      <td>0.000222</td>\n      <td>-0.000331</td>\n      <td>0.0</td>\n    </tr>\n    <tr>\n      <th>9</th>\n      <td>0.000403</td>\n      <td>0.000221</td>\n      <td>-0.000026</td>\n      <td>0.0</td>\n    </tr>\n  </tbody>\n</table>\n</div>"
     },
     "execution_count": 6,
     "metadata": {},
     "output_type": "execute_result"
    }
   ],
   "source": [
    "dummy = DummyRegressor()\n",
    "pd.DataFrame(cross_validate(dummy, X_train, y_train, cv=10, return_train_score=True))"
   ],
   "metadata": {
    "collapsed": false
   }
  },
  {
   "cell_type": "markdown",
   "source": [
    "### Apply `Ridge`\n",
    "\n",
    "   - It has a hyperparameter `alpha` which controls the fundamental tradeoff."
   ],
   "metadata": {
    "collapsed": false
   }
  },
  {
   "cell_type": "code",
   "execution_count": 7,
   "outputs": [
    {
     "data": {
      "text/plain": "   fit_time  score_time  test_score  train_score\n0  0.037742    0.001188    0.588559     0.611598\n1  0.006009    0.000796    0.628565     0.607223\n2  0.002488    0.004182    0.612912     0.608946\n3  0.002269    0.003565    0.617652     0.608316\n4  0.002387    0.007160    0.629292     0.607147\n5  0.002845    0.007344    0.594453     0.610809\n6  0.003322    0.003266    0.602400     0.610024\n7  0.002217    0.000356    0.619691     0.608112\n8  0.002149    0.000793    0.540111     0.614582\n9  0.002253    0.001666    0.614348     0.608775",
      "text/html": "<div>\n<style scoped>\n    .dataframe tbody tr th:only-of-type {\n        vertical-align: middle;\n    }\n\n    .dataframe tbody tr th {\n        vertical-align: top;\n    }\n\n    .dataframe thead th {\n        text-align: right;\n    }\n</style>\n<table border=\"1\" class=\"dataframe\">\n  <thead>\n    <tr style=\"text-align: right;\">\n      <th></th>\n      <th>fit_time</th>\n      <th>score_time</th>\n      <th>test_score</th>\n      <th>train_score</th>\n    </tr>\n  </thead>\n  <tbody>\n    <tr>\n      <th>0</th>\n      <td>0.037742</td>\n      <td>0.001188</td>\n      <td>0.588559</td>\n      <td>0.611598</td>\n    </tr>\n    <tr>\n      <th>1</th>\n      <td>0.006009</td>\n      <td>0.000796</td>\n      <td>0.628565</td>\n      <td>0.607223</td>\n    </tr>\n    <tr>\n      <th>2</th>\n      <td>0.002488</td>\n      <td>0.004182</td>\n      <td>0.612912</td>\n      <td>0.608946</td>\n    </tr>\n    <tr>\n      <th>3</th>\n      <td>0.002269</td>\n      <td>0.003565</td>\n      <td>0.617652</td>\n      <td>0.608316</td>\n    </tr>\n    <tr>\n      <th>4</th>\n      <td>0.002387</td>\n      <td>0.007160</td>\n      <td>0.629292</td>\n      <td>0.607147</td>\n    </tr>\n    <tr>\n      <th>5</th>\n      <td>0.002845</td>\n      <td>0.007344</td>\n      <td>0.594453</td>\n      <td>0.610809</td>\n    </tr>\n    <tr>\n      <th>6</th>\n      <td>0.003322</td>\n      <td>0.003266</td>\n      <td>0.602400</td>\n      <td>0.610024</td>\n    </tr>\n    <tr>\n      <th>7</th>\n      <td>0.002217</td>\n      <td>0.000356</td>\n      <td>0.619691</td>\n      <td>0.608112</td>\n    </tr>\n    <tr>\n      <th>8</th>\n      <td>0.002149</td>\n      <td>0.000793</td>\n      <td>0.540111</td>\n      <td>0.614582</td>\n    </tr>\n    <tr>\n      <th>9</th>\n      <td>0.002253</td>\n      <td>0.001666</td>\n      <td>0.614348</td>\n      <td>0.608775</td>\n    </tr>\n  </tbody>\n</table>\n</div>"
     },
     "execution_count": 7,
     "metadata": {},
     "output_type": "execute_result"
    }
   ],
   "source": [
    "lr_pipe = make_pipeline(StandardScaler(), Ridge())\n",
    "pd.DataFrame(cross_validate(lr_pipe, X_train, y_train, cv=10, return_train_score=True))"
   ],
   "metadata": {
    "collapsed": false
   }
  },
  {
   "cell_type": "markdown",
   "source": [
    "### Tuning `alpha` hyperparameter of `Ridge`\n",
    "- Recall that `Ridge` has a hyperparameter `alpha` that controls the fundamental tradeoff.\n",
    "- This is like `C` in `LogisticRegression` but, annoyingly, `alpha` is the inverse of `C`.\n",
    "- That is, large `C` is like small `alpha` and vice versa.\n",
    "- Smaller `alpha`: lower training error (overfitting)"
   ],
   "metadata": {
    "collapsed": false
   }
  },
  {
   "cell_type": "code",
   "execution_count": 8,
   "outputs": [],
   "source": [
    "alphas = 10.0 ** np.arange(-5, 5, 1)\n",
    "train_scores = []\n",
    "cv_scores = []\n",
    "for alpha in alphas:\n",
    "    lr = make_pipeline(StandardScaler(), Ridge(alpha=alpha))\n",
    "    results = cross_validate(lr, X_train, y_train, return_train_score=True)\n",
    "    train_scores.append(np.mean(results[\"train_score\"]))\n",
    "    cv_scores.append(np.mean(results[\"test_score\"]))"
   ],
   "metadata": {
    "collapsed": false
   }
  },
  {
   "cell_type": "code",
   "execution_count": 9,
   "outputs": [
    {
     "data": {
      "text/plain": "<Figure size 640x480 with 1 Axes>",
      "image/png": "[encoded data removed]"
     },
     "metadata": {},
     "output_type": "display_data"
    }
   ],
   "source": [
    "plt.semilogx(alphas, train_scores, label=\"train\")\n",
    "plt.semilogx(alphas, cv_scores, label=\"cv\")\n",
    "plt.legend()\n",
    "plt.xlabel(\"alpha\")\n",
    "plt.ylabel(\"score\");"
   ],
   "metadata": {
    "collapsed": false
   }
  },
  {
   "cell_type": "code",
   "execution_count": 10,
   "outputs": [
    {
     "data": {
      "text/plain": "10.0"
     },
     "execution_count": 10,
     "metadata": {},
     "output_type": "execute_result"
    }
   ],
   "source": [
    "best_alpha = alphas[np.argmax(cv_scores)]\n",
    "best_alpha"
   ],
   "metadata": {
    "collapsed": false
   }
  },
  {
   "cell_type": "markdown",
   "source": [
    "- It seems alpha=10 is the best choice here."
   ],
   "metadata": {
    "collapsed": false
   }
  },
  {
   "cell_type": "markdown",
   "source": [
    "- General intuition: larger `alpha` leads to smaller coefficients.\n",
    "- Smaller coefficients mean the predictions are less sensitive to changes in the data.\n",
    "- Hence less chance of overfitting (seeing big dependencies when you shouldn't)."
   ],
   "metadata": {
    "collapsed": false
   }
  },
  {
   "cell_type": "markdown",
   "source": [
    "### `RidgeCV`\n",
    "\n",
    "BTW, because it's so common to want to tune `alpha` with `Ridge`, sklearn provides a class called `RidgeCV`, which automatically tunes `alpha` based on cross-validation."
   ],
   "metadata": {
    "collapsed": false
   }
  },
  {
   "cell_type": "code",
   "execution_count": 11,
   "outputs": [],
   "source": [
    "ridgecv_pipe = make_pipeline(StandardScaler(), RidgeCV(alphas=alphas, cv=10))\n",
    "ridgecv_pipe.fit(X_train, y_train);"
   ],
   "metadata": {
    "collapsed": false
   }
  },
  {
   "cell_type": "code",
   "execution_count": 12,
   "outputs": [
    {
     "data": {
      "text/plain": "10.0"
     },
     "execution_count": 12,
     "metadata": {},
     "output_type": "execute_result"
    }
   ],
   "source": [
    "best_alpha = ridgecv_pipe.named_steps['ridgecv'].alpha_\n",
    "best_alpha"
   ],
   "metadata": {
    "collapsed": false
   }
  },
  {
   "cell_type": "markdown",
   "source": [
    "### Let's examine the coefficients"
   ],
   "metadata": {
    "collapsed": false
   }
  },
  {
   "cell_type": "code",
   "execution_count": 13,
   "outputs": [
    {
     "data": {
      "text/plain": "array([2.06916649, 3.3390054 , 2.25082576, 1.32449208, 1.13831599,\n       2.23866556, 0.89485099, 1.32251455, 2.30285326, 1.04322649])"
     },
     "execution_count": 13,
     "metadata": {},
     "output_type": "execute_result"
    }
   ],
   "source": [
    "lr_tuned = make_pipeline(StandardScaler(), Ridge(alpha=best_alpha))\n",
    "lr_tuned.fit(X_train, y_train)\n",
    "lr_preds = lr_tuned.predict(X_test)\n",
    "lr_preds[:10]"
   ],
   "metadata": {
    "collapsed": false
   }
  },
  {
   "cell_type": "code",
   "execution_count": 14,
   "outputs": [
    {
     "data": {
      "text/plain": "(6.901475874076683, -0.9238172840088699)"
     },
     "execution_count": 14,
     "metadata": {},
     "output_type": "execute_result"
    }
   ],
   "source": [
    "lr_preds.max(), lr_preds.min()"
   ],
   "metadata": {
    "collapsed": false
   }
  },
  {
   "cell_type": "code",
   "execution_count": 20,
   "outputs": [
    {
     "data": {
      "text/plain": "array([[<Axes: title={'center': '0'}>]], dtype=object)"
     },
     "execution_count": 20,
     "metadata": {},
     "output_type": "execute_result"
    },
    {
     "data": {
      "text/plain": "<Figure size 640x480 with 1 Axes>",
      "image/png": "[encoded data removed]"
     },
     "metadata": {},
     "output_type": "display_data"
    }
   ],
   "source": [
    "pd.DataFrame(california.target).hist()"
   ],
   "metadata": {
    "collapsed": false
   }
  },
  {
   "cell_type": "code",
   "execution_count": null,
   "outputs": [],
   "source": [],
   "metadata": {
    "collapsed": false
   }
  },
  {
   "cell_type": "markdown",
   "source": [
    "Let's get the feature names of the transformed data."
   ],
   "metadata": {
    "collapsed": false
   }
  },
  {
   "cell_type": "code",
   "execution_count": 21,
   "outputs": [],
   "source": [
    "df = pd.DataFrame(\n",
    "    data={\n",
    "        \"features\": X_train_df.columns,\n",
    "        \"coefficients\": lr_tuned.named_steps[\"ridge\"].coef_,\n",
    "    }\n",
    ")"
   ],
   "metadata": {
    "collapsed": false
   }
  },
  {
   "cell_type": "code",
   "execution_count": 22,
   "outputs": [
    {
     "data": {
      "text/plain": "     features  coefficients\n0      MedInc      0.825610\n3   AveBedrms      0.275073\n1    HouseAge      0.120808\n4  Population     -0.002824\n5    AveOccup     -0.040504\n2    AveRooms     -0.239915\n7   Longitude     -0.857666\n6    Latitude     -0.884038",
      "text/html": "<div>\n<style scoped>\n    .dataframe tbody tr th:only-of-type {\n        vertical-align: middle;\n    }\n\n    .dataframe tbody tr th {\n        vertical-align: top;\n    }\n\n    .dataframe thead th {\n        text-align: right;\n    }\n</style>\n<table border=\"1\" class=\"dataframe\">\n  <thead>\n    <tr style=\"text-align: right;\">\n      <th></th>\n      <th>features</th>\n      <th>coefficients</th>\n    </tr>\n  </thead>\n  <tbody>\n    <tr>\n      <th>0</th>\n      <td>MedInc</td>\n      <td>0.825610</td>\n    </tr>\n    <tr>\n      <th>3</th>\n      <td>AveBedrms</td>\n      <td>0.275073</td>\n    </tr>\n    <tr>\n      <th>1</th>\n      <td>HouseAge</td>\n      <td>0.120808</td>\n    </tr>\n    <tr>\n      <th>4</th>\n      <td>Population</td>\n      <td>-0.002824</td>\n    </tr>\n    <tr>\n      <th>5</th>\n      <td>AveOccup</td>\n      <td>-0.040504</td>\n    </tr>\n    <tr>\n      <th>2</th>\n      <td>AveRooms</td>\n      <td>-0.239915</td>\n    </tr>\n    <tr>\n      <th>7</th>\n      <td>Longitude</td>\n      <td>-0.857666</td>\n    </tr>\n    <tr>\n      <th>6</th>\n      <td>Latitude</td>\n      <td>-0.884038</td>\n    </tr>\n  </tbody>\n</table>\n</div>"
     },
     "execution_count": 22,
     "metadata": {},
     "output_type": "execute_result"
    }
   ],
   "source": [
    "df.sort_values(\"coefficients\",ascending=False)"
   ],
   "metadata": {
    "collapsed": false
   }
  },
  {
   "cell_type": "markdown",
   "source": [
    "So according to this model:\n",
    "\n",
    "- As `MedInc` feature gets bigger the housing price will get bigger.\n"
   ],
   "metadata": {
    "collapsed": false
   }
  },
  {
   "cell_type": "markdown",
   "source": [
    "<br><br><br><br>"
   ],
   "metadata": {
    "collapsed": false
   }
  },
  {
   "cell_type": "markdown",
   "source": [
    "## Regression score functions"
   ],
   "metadata": {
    "collapsed": false
   }
  },
  {
   "cell_type": "markdown",
   "source": [
    "We need a score that reflects how right/wrong each prediction is."
   ],
   "metadata": {
    "collapsed": false
   }
  },
  {
   "cell_type": "markdown",
   "source": [
    "A number of popular scoring functions for regression. We are going to look at some common metrics:\n",
    "\n",
    "- mean squared error (MSE)\n",
    "- $R^2$\n",
    "- root mean squared error (RMSE)\n",
    "- MAPE\n",
    "\n",
    "See [sklearn documentation](https://scikit-learn.org/stable/modules/model_evaluation.html#regression-metrics) for more details."
   ],
   "metadata": {
    "collapsed": false
   }
  },
  {
   "cell_type": "markdown",
   "source": [
    "### Mean squared error (MSE)\n",
    "\n",
    "- A common metric is mean squared error:"
   ],
   "metadata": {
    "collapsed": false
   }
  },
  {
   "cell_type": "code",
   "execution_count": 23,
   "outputs": [],
   "source": [
    "preds = lr_tuned.predict(X_train)"
   ],
   "metadata": {
    "collapsed": false
   }
  },
  {
   "cell_type": "code",
   "execution_count": 24,
   "outputs": [
    {
     "data": {
      "text/plain": "0.5145580726243096"
     },
     "execution_count": 24,
     "metadata": {},
     "output_type": "execute_result"
    }
   ],
   "source": [
    "np.mean((y_train - preds) ** 2)"
   ],
   "metadata": {
    "collapsed": false
   }
  },
  {
   "cell_type": "markdown",
   "source": [
    "Perfect predictions would have MSE=0."
   ],
   "metadata": {
    "collapsed": false
   }
  },
  {
   "cell_type": "code",
   "execution_count": 23,
   "outputs": [
    {
     "data": {
      "text/plain": "0.0"
     },
     "execution_count": 23,
     "metadata": {},
     "output_type": "execute_result"
    }
   ],
   "source": [
    "np.mean((y_train - y_train) ** 2)"
   ],
   "metadata": {
    "collapsed": false
   }
  },
  {
   "cell_type": "markdown",
   "source": [
    "This is also implemented in sklearn:"
   ],
   "metadata": {
    "collapsed": false
   }
  },
  {
   "cell_type": "code",
   "execution_count": 25,
   "outputs": [
    {
     "data": {
      "text/plain": "0.5145580726243096"
     },
     "execution_count": 25,
     "metadata": {},
     "output_type": "execute_result"
    }
   ],
   "source": [
    "from sklearn.metrics import mean_squared_error\n",
    "\n",
    "mean_squared_error(y_train, preds)"
   ],
   "metadata": {
    "collapsed": false
   }
  },
  {
   "cell_type": "markdown",
   "source": [
    "- Is this score good or bad?"
   ],
   "metadata": {
    "collapsed": false
   }
  },
  {
   "cell_type": "markdown",
   "source": [
    "- Unlike classification, with regression **our target has units**.\n",
    "- The target is in dollars, the mean squared error is in $dollars^2$\n",
    "- The score also depends on the scale of the targets."
   ],
   "metadata": {
    "collapsed": false
   }
  },
  {
   "cell_type": "markdown",
   "source": [
    "### Root mean squared error or RMSE\n",
    "\n",
    "- The MSE above is in $dollars^2$.\n",
    "- A more relatable metric would be the root mean squared error, or RMSE"
   ],
   "metadata": {
    "collapsed": false
   }
  },
  {
   "cell_type": "code",
   "execution_count": 26,
   "outputs": [
    {
     "data": {
      "text/plain": "0.7173270332451647"
     },
     "execution_count": 26,
     "metadata": {},
     "output_type": "execute_result"
    }
   ],
   "source": [
    "np.sqrt(mean_squared_error(y_train, lr_tuned.predict(X_train)))"
   ],
   "metadata": {
    "collapsed": false
   }
  },
  {
   "cell_type": "markdown",
   "source": [
    "- Error of \\$0.72484 makes more sense.\n",
    "- Can we dig deeper?"
   ],
   "metadata": {
    "collapsed": false
   }
  },
  {
   "cell_type": "code",
   "execution_count": 28,
   "outputs": [
    {
     "data": {
      "text/plain": "<Figure size 640x480 with 1 Axes>",
      "image/png": "[encoded data removed]"
     },
     "metadata": {},
     "output_type": "display_data"
    }
   ],
   "source": [
    "plt.scatter(y_train, lr_tuned.predict(X_train), alpha=0.3)\n",
    "grid = np.linspace(y_train.min(), y_train.max(), 1000)\n",
    "plt.plot(grid, grid, \"--k\")\n",
    "plt.xlabel(\"true price\")\n",
    "plt.ylabel(\"predicted price\");"
   ],
   "metadata": {
    "collapsed": false
   }
  },
  {
   "cell_type": "markdown",
   "source": [
    "- Here we can see a few cases where our prediction is way off.\n",
    "- Is there something weird about those houses, perhaps? Outliers?\n",
    "- Under the line means we're under-prediction, over the line means we're over-predicting."
   ],
   "metadata": {
    "collapsed": false
   }
  },
  {
   "cell_type": "markdown",
   "source": [
    "### $R^2$ (not in detail)\n",
    "\n",
    "A common score is the $R^2$\n",
    "\n",
    "- This is the score that `sklearn` uses by default when you call score():\n",
    "- You can [read about it](https://en.wikipedia.org/wiki/Coefficient_of_determination) if interested.\n",
    "- Intuition: similar to mean squared error, but flipped (higher is better), and normalized so the max is 1.\n"
   ],
   "metadata": {
    "collapsed": false
   }
  },
  {
   "cell_type": "markdown",
   "source": [
    "$$R^2(y, \\hat{y}) = 1 - \\frac{\\sum_{i=1}^n (y_i - \\hat{y_i})^2}{\\sum_{i=1}^n (y_i - \\bar{y})^2}$$"
   ],
   "metadata": {
    "collapsed": false
   }
  },
  {
   "cell_type": "markdown",
   "source": [
    "Key points:\n",
    "- The maximum is 1 for perfect predictions\n",
    "- Negative values are very bad: \"worse than DummyRegressor\" (very bad)\n"
   ],
   "metadata": {
    "collapsed": false
   }
  },
  {
   "cell_type": "code",
   "execution_count": 29,
   "outputs": [
    {
     "data": {
      "text/plain": "0.5145580726243096"
     },
     "execution_count": 29,
     "metadata": {},
     "output_type": "execute_result"
    }
   ],
   "source": [
    "mean_squared_error(y_train, preds)"
   ],
   "metadata": {
    "collapsed": false
   }
  },
  {
   "cell_type": "code",
   "execution_count": 30,
   "outputs": [
    {
     "data": {
      "text/plain": "0.5145580726243096"
     },
     "execution_count": 30,
     "metadata": {},
     "output_type": "execute_result"
    }
   ],
   "source": [
    "mean_squared_error(preds, y_train)"
   ],
   "metadata": {
    "collapsed": false
   }
  },
  {
   "cell_type": "code",
   "execution_count": 31,
   "outputs": [
    {
     "data": {
      "text/plain": "0.6093684738546452"
     },
     "execution_count": 31,
     "metadata": {},
     "output_type": "execute_result"
    }
   ],
   "source": [
    "r2_score(y_train, preds)"
   ],
   "metadata": {
    "collapsed": false
   }
  },
  {
   "cell_type": "code",
   "execution_count": 32,
   "outputs": [
    {
     "data": {
      "text/plain": "0.3566772298163543"
     },
     "execution_count": 32,
     "metadata": {},
     "output_type": "execute_result"
    }
   ],
   "source": [
    "r2_score(preds, y_train)"
   ],
   "metadata": {
    "collapsed": false
   }
  },
  {
   "cell_type": "markdown",
   "source": [
    "- When you call `fit` it minimizes MSE / maximizes $R^2$ (or something like that) by default.\n",
    "- This isn't always what you want!!"
   ],
   "metadata": {
    "collapsed": false
   }
  },
  {
   "cell_type": "markdown",
   "source": [
    "### MAPE\n",
    "\n",
    "- We got an RMSE of ~ 0.72484 before.\n",
    "\n",
    "Question: Is an error of 0.72484 acceptable?"
   ],
   "metadata": {
    "collapsed": false
   }
  },
  {
   "cell_type": "code",
   "execution_count": 33,
   "outputs": [
    {
     "data": {
      "text/plain": "0.7173270332451647"
     },
     "execution_count": 33,
     "metadata": {},
     "output_type": "execute_result"
    }
   ],
   "source": [
    "np.sqrt(mean_squared_error(y_train, lr_tuned.predict(X_train)))"
   ],
   "metadata": {
    "collapsed": false
   }
  },
  {
   "cell_type": "code",
   "execution_count": 34,
   "outputs": [
    {
     "data": {
      "text/plain": "<Figure size 640x480 with 1 Axes>",
      "image/png": "[encoded data removed]"
     },
     "metadata": {},
     "output_type": "display_data"
    }
   ],
   "source": [
    "plt.hist(y_train, bins=100);"
   ],
   "metadata": {
    "collapsed": false
   }
  },
  {
   "cell_type": "markdown",
   "source": [
    "How about looking at percent error?"
   ],
   "metadata": {
    "collapsed": false
   }
  },
  {
   "cell_type": "code",
   "execution_count": 35,
   "outputs": [
    {
     "data": {
      "text/plain": "array([-35.37607161,  45.32323369,  -9.62751581, ...,  50.9993222 ,\n       -13.37896983, 149.24886944])"
     },
     "execution_count": 35,
     "metadata": {},
     "output_type": "execute_result"
    }
   ],
   "source": [
    "pred_train = lr_tuned.predict(X_train)\n",
    "percent_errors = (pred_train - y_train) / y_train * 100.0\n",
    "percent_errors"
   ],
   "metadata": {
    "collapsed": false
   }
  },
  {
   "cell_type": "markdown",
   "source": [
    "These are both positive (predict too high) and negative (predict too low)."
   ],
   "metadata": {
    "collapsed": false
   }
  },
  {
   "cell_type": "markdown",
   "source": [
    "We can look at the absolute percent error:"
   ],
   "metadata": {
    "collapsed": false
   }
  },
  {
   "cell_type": "code",
   "execution_count": 36,
   "outputs": [
    {
     "data": {
      "text/plain": "array([ 35.37607161,  45.32323369,   9.62751581, ...,  50.9993222 ,\n        13.37896983, 149.24886944])"
     },
     "execution_count": 36,
     "metadata": {},
     "output_type": "execute_result"
    }
   ],
   "source": [
    "np.abs(percent_errors)"
   ],
   "metadata": {
    "collapsed": false
   }
  },
  {
   "cell_type": "markdown",
   "source": [
    "And, like MSE, we can take the average over examples. This is called mean absolute percent error (MAPE)."
   ],
   "metadata": {
    "collapsed": false
   }
  },
  {
   "cell_type": "code",
   "execution_count": 37,
   "outputs": [],
   "source": [
    "def my_mape(true, pred):\n",
    "    return np.mean(np.abs((pred - true) / true))"
   ],
   "metadata": {
    "collapsed": false
   }
  },
  {
   "cell_type": "code",
   "execution_count": 38,
   "outputs": [
    {
     "data": {
      "text/plain": "0.3156857745489989"
     },
     "execution_count": 38,
     "metadata": {},
     "output_type": "execute_result"
    }
   ],
   "source": [
    "my_mape(y_train, pred_train)"
   ],
   "metadata": {
    "collapsed": false
   }
  },
  {
   "cell_type": "markdown",
   "source": [
    "Let's use `sklearn` to calculate MAPE."
   ],
   "metadata": {
    "collapsed": false
   }
  },
  {
   "cell_type": "code",
   "execution_count": 39,
   "outputs": [],
   "source": [
    "from sklearn.metrics import mean_absolute_percentage_error"
   ],
   "metadata": {
    "collapsed": false
   }
  },
  {
   "cell_type": "code",
   "execution_count": 40,
   "outputs": [
    {
     "data": {
      "text/plain": "0.3156857745489989"
     },
     "execution_count": 40,
     "metadata": {},
     "output_type": "execute_result"
    }
   ],
   "source": [
    "mean_absolute_percentage_error(y_train, pred_train)"
   ],
   "metadata": {
    "collapsed": false
   }
  },
  {
   "cell_type": "markdown",
   "source": [
    "- Ok, this is quite interpretable.\n",
    "- On average, we have around 32% error."
   ],
   "metadata": {
    "collapsed": false
   }
  },
  {
   "cell_type": "markdown",
   "source": [
    "### Transforming the targets"
   ],
   "metadata": {
    "collapsed": false
   }
  },
  {
   "cell_type": "markdown",
   "source": [
    "- Does `.fit()` know we care about MAPE?\n",
    "- No, it doesn't. Why are we minimizing MSE (or something similar) if we care about MAPE??\n",
    "- When minimizing MSE, the expensive houses will dominate because they have the biggest error.\n",
    "- Which is better for RMSE?"
   ],
   "metadata": {
    "collapsed": false
   }
  },
  {
   "cell_type": "markdown",
   "source": [
    "Model A\n",
    "\n",
    "- Example 1: Truth: 50k, Prediction: 100k\n",
    "- Example 2: Truth: 500k, Prediction: 550k\n",
    "- RMSE: 50k\n",
    "- MAPE: 45%\n",
    "\n",
    "\n",
    "Model B\n",
    "\n",
    "- Example 1: Truth: 50k, Prediction: 60k\n",
    "- Example 2: Truth: 500k, Prediction: 600k\n",
    "- RMSE: 71k\n",
    "- MAPE: 20%"
   ],
   "metadata": {
    "collapsed": false
   }
  },
  {
   "cell_type": "markdown",
   "source": [
    "- How can we get `.fit()` to think about MAPE?\n",
    "- A common practice which tends to work is log transforming the targets.\n",
    "- That is, transform $y\\rightarrow \\log(y)$."
   ],
   "metadata": {
    "collapsed": false
   }
  },
  {
   "cell_type": "code",
   "execution_count": 41,
   "outputs": [
    {
     "data": {
      "text/plain": "<Figure size 640x480 with 1 Axes>",
      "image/png": "[encoded data removed]"
     },
     "metadata": {},
     "output_type": "display_data"
    }
   ],
   "source": [
    "plt.hist(y_train, bins=100);"
   ],
   "metadata": {
    "collapsed": false
   }
  },
  {
   "cell_type": "code",
   "execution_count": 42,
   "outputs": [
    {
     "data": {
      "text/plain": "<Figure size 640x480 with 1 Axes>",
      "image/png": "[encoded data removed]"
     },
     "metadata": {},
     "output_type": "display_data"
    }
   ],
   "source": [
    "plt.hist(np.log10(y_train), bins=100);"
   ],
   "metadata": {
    "collapsed": false
   }
  },
  {
   "cell_type": "markdown",
   "source": [
    "We can incorporate this in our pipeline using `sklearn`."
   ],
   "metadata": {
    "collapsed": false
   }
  },
  {
   "cell_type": "code",
   "execution_count": 43,
   "outputs": [],
   "source": [
    "from sklearn.compose import TransformedTargetRegressor"
   ],
   "metadata": {
    "collapsed": false
   }
  },
  {
   "cell_type": "code",
   "execution_count": 44,
   "outputs": [],
   "source": [
    "ttr = TransformedTargetRegressor(\n",
    "    Ridge(alpha=best_alpha), func=np.log1p, inverse_func=np.expm1\n",
    ") # transformer for log transforming the target\n",
    "ttr_pipe = make_pipeline(StandardScaler(), ttr)"
   ],
   "metadata": {
    "collapsed": false
   }
  },
  {
   "cell_type": "code",
   "execution_count": 45,
   "outputs": [],
   "source": [
    "ttr_pipe.fit(X_train, y_train); # y_train automatically transformed"
   ],
   "metadata": {
    "collapsed": false
   }
  },
  {
   "cell_type": "code",
   "execution_count": 46,
   "outputs": [
    {
     "data": {
      "text/plain": "array([2.40972835, 1.75268753, 1.7661668 , ..., 1.87365336, 1.1426562 ,\n       1.05278368])"
     },
     "execution_count": 46,
     "metadata": {},
     "output_type": "execute_result"
    }
   ],
   "source": [
    "ttr_pipe.predict(X_train)  # predictions automatically un-transformed"
   ],
   "metadata": {
    "collapsed": false
   }
  },
  {
   "cell_type": "code",
   "execution_count": 47,
   "outputs": [
    {
     "data": {
      "text/plain": "0.2879101712051621"
     },
     "execution_count": 47,
     "metadata": {},
     "output_type": "execute_result"
    }
   ],
   "source": [
    "mean_absolute_percentage_error(y_test, ttr_pipe.predict(X_test))"
   ],
   "metadata": {
    "collapsed": false
   }
  },
  {
   "cell_type": "markdown",
   "source": [
    "We didn't reduce MAPE very much!"
   ],
   "metadata": {
    "collapsed": false
   }
  },
  {
   "cell_type": "markdown",
   "source": [
    "### Different scoring functions with `cross_validate`\n",
    "\n",
    "- Let's try using MSE instead of the default $R^2$ score."
   ],
   "metadata": {
    "collapsed": false
   }
  },
  {
   "cell_type": "code",
   "execution_count": 48,
   "outputs": [
    {
     "data": {
      "text/plain": "   fit_time  score_time  test_neg_mean_squared_error  \\\n0  0.003164    0.002528                    -0.511092   \n1  0.008798    0.001977                    -0.514574   \n2  0.002316    0.001278                    -0.499417   \n3  0.009757    0.000992                    -0.513620   \n4  0.001966    0.000432                    -0.559894   \n\n   train_neg_mean_squared_error  test_neg_mean_absolute_percentage_error  \\\n0                     -0.515530                                -0.315053   \n1                     -0.514754                                -0.310057   \n2                     -0.518526                                -0.319940   \n3                     -0.514976                                -0.320130   \n4                     -0.506688                                -0.315283   \n\n   train_neg_mean_absolute_percentage_error  \n0                                 -0.315748  \n1                                 -0.317054  \n2                                 -0.314971  \n3                                 -0.315366  \n4                                 -0.314937  ",
      "text/html": "<div>\n<style scoped>\n    .dataframe tbody tr th:only-of-type {\n        vertical-align: middle;\n    }\n\n    .dataframe tbody tr th {\n        vertical-align: top;\n    }\n\n    .dataframe thead th {\n        text-align: right;\n    }\n</style>\n<table border=\"1\" class=\"dataframe\">\n  <thead>\n    <tr style=\"text-align: right;\">\n      <th></th>\n      <th>fit_time</th>\n      <th>score_time</th>\n      <th>test_neg_mean_squared_error</th>\n      <th>train_neg_mean_squared_error</th>\n      <th>test_neg_mean_absolute_percentage_error</th>\n      <th>train_neg_mean_absolute_percentage_error</th>\n    </tr>\n  </thead>\n  <tbody>\n    <tr>\n      <th>0</th>\n      <td>0.003164</td>\n      <td>0.002528</td>\n      <td>-0.511092</td>\n      <td>-0.515530</td>\n      <td>-0.315053</td>\n      <td>-0.315748</td>\n    </tr>\n    <tr>\n      <th>1</th>\n      <td>0.008798</td>\n      <td>0.001977</td>\n      <td>-0.514574</td>\n      <td>-0.514754</td>\n      <td>-0.310057</td>\n      <td>-0.317054</td>\n    </tr>\n    <tr>\n      <th>2</th>\n      <td>0.002316</td>\n      <td>0.001278</td>\n      <td>-0.499417</td>\n      <td>-0.518526</td>\n      <td>-0.319940</td>\n      <td>-0.314971</td>\n    </tr>\n    <tr>\n      <th>3</th>\n      <td>0.009757</td>\n      <td>0.000992</td>\n      <td>-0.513620</td>\n      <td>-0.514976</td>\n      <td>-0.320130</td>\n      <td>-0.315366</td>\n    </tr>\n    <tr>\n      <th>4</th>\n      <td>0.001966</td>\n      <td>0.000432</td>\n      <td>-0.559894</td>\n      <td>-0.506688</td>\n      <td>-0.315283</td>\n      <td>-0.314937</td>\n    </tr>\n  </tbody>\n</table>\n</div>"
     },
     "execution_count": 48,
     "metadata": {},
     "output_type": "execute_result"
    }
   ],
   "source": [
    "pd.DataFrame(\n",
    "    cross_validate(\n",
    "        lr_tuned,\n",
    "        X_train,\n",
    "        y_train,\n",
    "        return_train_score=True,\n",
    "        scoring=[\"neg_mean_squared_error\", \"neg_mean_absolute_percentage_error\"]\n",
    "    )\n",
    ")"
   ],
   "metadata": {
    "collapsed": false
   }
  },
  {
   "cell_type": "code",
   "execution_count": 49,
   "outputs": [
    {
     "data": {
      "text/plain": "   fit_time  score_time  test_score  train_score\n0  0.003608    0.001743    0.315053     0.315748\n1  0.002668    0.003950    0.310057     0.317054\n2  0.006163    0.000917    0.319940     0.314971\n3  0.003201    0.000335    0.320130     0.315366\n4  0.002104    0.000319    0.315283     0.314937",
      "text/html": "<div>\n<style scoped>\n    .dataframe tbody tr th:only-of-type {\n        vertical-align: middle;\n    }\n\n    .dataframe tbody tr th {\n        vertical-align: top;\n    }\n\n    .dataframe thead th {\n        text-align: right;\n    }\n</style>\n<table border=\"1\" class=\"dataframe\">\n  <thead>\n    <tr style=\"text-align: right;\">\n      <th></th>\n      <th>fit_time</th>\n      <th>score_time</th>\n      <th>test_score</th>\n      <th>train_score</th>\n    </tr>\n  </thead>\n  <tbody>\n    <tr>\n      <th>0</th>\n      <td>0.003608</td>\n      <td>0.001743</td>\n      <td>0.315053</td>\n      <td>0.315748</td>\n    </tr>\n    <tr>\n      <th>1</th>\n      <td>0.002668</td>\n      <td>0.003950</td>\n      <td>0.310057</td>\n      <td>0.317054</td>\n    </tr>\n    <tr>\n      <th>2</th>\n      <td>0.006163</td>\n      <td>0.000917</td>\n      <td>0.319940</td>\n      <td>0.314971</td>\n    </tr>\n    <tr>\n      <th>3</th>\n      <td>0.003201</td>\n      <td>0.000335</td>\n      <td>0.320130</td>\n      <td>0.315366</td>\n    </tr>\n    <tr>\n      <th>4</th>\n      <td>0.002104</td>\n      <td>0.000319</td>\n      <td>0.315283</td>\n      <td>0.314937</td>\n    </tr>\n  </tbody>\n</table>\n</div>"
     },
     "execution_count": 49,
     "metadata": {},
     "output_type": "execute_result"
    }
   ],
   "source": [
    "def mape(true, pred):\n",
    "    return mean_absolute_percentage_error(true, pred)\n",
    "\n",
    "\n",
    "# make a scorer function that we can pass into cross-validation\n",
    "mape_scorer = make_scorer(mape, greater_is_better=True)\n",
    "\n",
    "pd.DataFrame(\n",
    "    cross_validate(\n",
    "        lr_tuned, X_train, y_train, return_train_score=True, scoring=mape_scorer\n",
    "    )\n",
    ")"
   ],
   "metadata": {
    "collapsed": false
   }
  },
  {
   "cell_type": "code",
   "execution_count": 50,
   "outputs": [
    {
     "data": {
      "text/plain": "['accuracy',\n 'adjusted_mutual_info_score',\n 'adjusted_rand_score',\n 'average_precision',\n 'balanced_accuracy',\n 'completeness_score',\n 'explained_variance',\n 'f1',\n 'f1_macro',\n 'f1_micro',\n 'f1_samples',\n 'f1_weighted',\n 'fowlkes_mallows_score',\n 'homogeneity_score',\n 'jaccard',\n 'jaccard_macro',\n 'jaccard_micro',\n 'jaccard_samples',\n 'jaccard_weighted',\n 'matthews_corrcoef',\n 'max_error',\n 'mutual_info_score',\n 'neg_brier_score',\n 'neg_log_loss',\n 'neg_mean_absolute_error',\n 'neg_mean_absolute_percentage_error',\n 'neg_mean_gamma_deviance',\n 'neg_mean_poisson_deviance',\n 'neg_mean_squared_error',\n 'neg_mean_squared_log_error',\n 'neg_median_absolute_error',\n 'neg_negative_likelihood_ratio',\n 'neg_root_mean_squared_error',\n 'neg_root_mean_squared_log_error',\n 'normalized_mutual_info_score',\n 'positive_likelihood_ratio',\n 'precision',\n 'precision_macro',\n 'precision_micro',\n 'precision_samples',\n 'precision_weighted',\n 'r2',\n 'rand_score',\n 'recall',\n 'recall_macro',\n 'recall_micro',\n 'recall_samples',\n 'recall_weighted',\n 'roc_auc',\n 'roc_auc_ovo',\n 'roc_auc_ovo_weighted',\n 'roc_auc_ovr',\n 'roc_auc_ovr_weighted',\n 'top_k_accuracy',\n 'v_measure_score']"
     },
     "execution_count": 50,
     "metadata": {},
     "output_type": "execute_result"
    }
   ],
   "source": [
    "import sklearn\n",
    "sklearn.metrics.get_scorer_names()"
   ],
   "metadata": {
    "collapsed": false
   }
  },
  {
   "cell_type": "code",
   "execution_count": 51,
   "outputs": [
    {
     "data": {
      "text/plain": "                       0         1         2         3         4\nfit_time        0.003376  0.002647  0.005093  0.003916  0.005503\nscore_time      0.001543  0.000962  0.008199  0.002231  0.002139\ntest_r2         0.608604  0.615136  0.612291  0.611596  0.579559\ntrain_r2        0.609476  0.607702  0.608470  0.608660  0.614282\ntest_neg_mape  -0.315053 -0.310057 -0.319940 -0.320130 -0.315283\ntrain_neg_mape -0.315748 -0.317054 -0.314971 -0.315366 -0.314937\ntest_neg_rmse  -0.714907 -0.717338 -0.706694 -0.716673 -0.748260\ntrain_neg_rmse -0.718004 -0.717464 -0.720087 -0.717618 -0.711820\ntest_neg_mse   -0.511092 -0.514574 -0.499417 -0.513620 -0.559894\ntrain_neg_mse  -0.515530 -0.514754 -0.518526 -0.514976 -0.506688",
      "text/html": "<div>\n<style scoped>\n    .dataframe tbody tr th:only-of-type {\n        vertical-align: middle;\n    }\n\n    .dataframe tbody tr th {\n        vertical-align: top;\n    }\n\n    .dataframe thead th {\n        text-align: right;\n    }\n</style>\n<table border=\"1\" class=\"dataframe\">\n  <thead>\n    <tr style=\"text-align: right;\">\n      <th></th>\n      <th>0</th>\n      <th>1</th>\n      <th>2</th>\n      <th>3</th>\n      <th>4</th>\n    </tr>\n  </thead>\n  <tbody>\n    <tr>\n      <th>fit_time</th>\n      <td>0.003376</td>\n      <td>0.002647</td>\n      <td>0.005093</td>\n      <td>0.003916</td>\n      <td>0.005503</td>\n    </tr>\n    <tr>\n      <th>score_time</th>\n      <td>0.001543</td>\n      <td>0.000962</td>\n      <td>0.008199</td>\n      <td>0.002231</td>\n      <td>0.002139</td>\n    </tr>\n    <tr>\n      <th>test_r2</th>\n      <td>0.608604</td>\n      <td>0.615136</td>\n      <td>0.612291</td>\n      <td>0.611596</td>\n      <td>0.579559</td>\n    </tr>\n    <tr>\n      <th>train_r2</th>\n      <td>0.609476</td>\n      <td>0.607702</td>\n      <td>0.608470</td>\n      <td>0.608660</td>\n      <td>0.614282</td>\n    </tr>\n    <tr>\n      <th>test_neg_mape</th>\n      <td>-0.315053</td>\n      <td>-0.310057</td>\n      <td>-0.319940</td>\n      <td>-0.320130</td>\n      <td>-0.315283</td>\n    </tr>\n    <tr>\n      <th>train_neg_mape</th>\n      <td>-0.315748</td>\n      <td>-0.317054</td>\n      <td>-0.314971</td>\n      <td>-0.315366</td>\n      <td>-0.314937</td>\n    </tr>\n    <tr>\n      <th>test_neg_rmse</th>\n      <td>-0.714907</td>\n      <td>-0.717338</td>\n      <td>-0.706694</td>\n      <td>-0.716673</td>\n      <td>-0.748260</td>\n    </tr>\n    <tr>\n      <th>train_neg_rmse</th>\n      <td>-0.718004</td>\n      <td>-0.717464</td>\n      <td>-0.720087</td>\n      <td>-0.717618</td>\n      <td>-0.711820</td>\n    </tr>\n    <tr>\n      <th>test_neg_mse</th>\n      <td>-0.511092</td>\n      <td>-0.514574</td>\n      <td>-0.499417</td>\n      <td>-0.513620</td>\n      <td>-0.559894</td>\n    </tr>\n    <tr>\n      <th>train_neg_mse</th>\n      <td>-0.515530</td>\n      <td>-0.514754</td>\n      <td>-0.518526</td>\n      <td>-0.514976</td>\n      <td>-0.506688</td>\n    </tr>\n  </tbody>\n</table>\n</div>"
     },
     "execution_count": 51,
     "metadata": {},
     "output_type": "execute_result"
    }
   ],
   "source": [
    "scoring = {\n",
    "    \"r2\": \"r2\",\n",
    "    \"neg_mape\": \"neg_mean_absolute_percentage_error\",\n",
    "    \"neg_rmse\": \"neg_root_mean_squared_error\",\n",
    "    \"neg_mse\": \"neg_mean_squared_error\",\n",
    "}\n",
    "\n",
    "pd.DataFrame(\n",
    "    cross_validate(lr_tuned, X_train, y_train, return_train_score=True, scoring=scoring)\n",
    ").T"
   ],
   "metadata": {
    "collapsed": false
   }
  },
  {
   "cell_type": "code",
   "execution_count": 54,
   "outputs": [
    {
     "data": {
      "text/plain": "0.31749121751070586"
     },
     "execution_count": 54,
     "metadata": {},
     "output_type": "execute_result"
    }
   ],
   "source": [
    "mean_absolute_percentage_error(y_test, lr_tuned.predict(X_test))"
   ],
   "metadata": {
    "collapsed": false
   }
  },
  {
   "cell_type": "markdown",
   "source": [
    "### Using regression metrics with `scikit-learn`\n",
    "\n",
    "- In `sklearn` you will notice that it has negative version of the metrics above (e.g., `neg_mean_squared_error`, `neg_root_mean_squared_error`).\n",
    "- The reason for this is that scores return a value to maximize, the higher the better.\n",
    "- If you define your own scorer function and if you do not want this interpretation, you can set the `greater_is_better` parameter to False"
   ],
   "metadata": {
    "collapsed": false
   }
  },
  {
   "cell_type": "markdown",
   "source": [
    "## Summary\n",
    "\n",
    "- House prices dataset target is price, which is numeric -> regression rather than classification\n",
    "- `Ridge` hyperparameter `alpha` is like `LogisticRegression` hyperparameter `C`, but opposite meaning"
   ],
   "metadata": {
    "collapsed": false
   }
  },
  {
   "cell_type": "markdown",
   "source": [
    "- Scoring metrics\n",
    "- $R^2$ is the default .score(), it is unitless, 0 is bad, 1 is best\n",
    "- MSE (mean squared error) is in units of target squared, hard to interpret; 0 is best\n",
    "- RMSE (root mean squared error) is in the same units as the target; 0 is best\n",
    "- MAPE (mean absolute percent error) is unitless; 0 is best, 1 is bad"
   ],
   "metadata": {
    "collapsed": false
   }
  }
 ],
 "metadata": {
  "kernelspec": {
   "display_name": "Python 3",
   "language": "python",
   "name": "python3"
  },
  "language_info": {
   "codemirror_mode": {
    "name": "ipython",
    "version": 2
   },
   "file_extension": ".py",
   "mimetype": "text/x-python",
   "name": "python",
   "nbconvert_exporter": "python",
   "pygments_lexer": "ipython2",
   "version": "2.7.6"
  }
 },
 "nbformat": 4,
 "nbformat_minor": 0
}
